{
 "cells": [
  {
   "cell_type": "markdown",
   "id": "0fa0b995",
   "metadata": {},
   "source": [
    "# Exploratory Data Analysis"
   ]
  },
  {
   "cell_type": "code",
   "execution_count": 1,
   "id": "40b81aab",
   "metadata": {
    "ExecuteTime": {
     "end_time": "2021-05-16T16:29:25.752325Z",
     "start_time": "2021-05-16T16:29:25.742868Z"
    }
   },
   "outputs": [],
   "source": [
    "import sys\n",
    "sys.path.append('/Users/efraflores/Desktop/hub/asimov_generator/venv/lib/python3.9/site-packages')"
   ]
  },
  {
   "cell_type": "markdown",
   "id": "825c504f",
   "metadata": {},
   "source": [
    "## Parameters"
   ]
  },
  {
   "cell_type": "code",
   "execution_count": 2,
   "id": "e0e4bc27",
   "metadata": {
    "ExecuteTime": {
     "end_time": "2021-05-16T16:29:25.761181Z",
     "start_time": "2021-05-16T16:29:25.756117Z"
    }
   },
   "outputs": [
    {
     "name": "stdout",
     "output_type": "stream",
     "text": [
      "['glove.6B.300d.txt', 'asimov_features.csv', '.DS_Store', 'glove.6B.100d.txt', 'corpus.txt', 'glove.6B.50d.txt', 'rnn_asimov_weights.h5', 'project', 'glove.6B.200d.txt', 'doc', 'rnn_asimov_architecture.json', 'glove.6B.zip', 'rnn_asimov_tokenizer.pickle', 'The_Last_Question.pdf']\n"
     ]
    }
   ],
   "source": [
    "import os\n",
    "\n",
    "BASE_DIR = '/Users/efraflores/Desktop/EF/Diplo/Asimov' #'/content' if you're using GColab\n",
    "print(os.listdir(BASE_DIR))\n",
    "SPLIT_PATTERN = \"[\\,\\.\\?\\!\\n]\"#\"[\\.\\?\\!]\" #How you want to split your text into sentences\n",
    "EMBEDDING_DIM = 300 #from (50,100,200,300) possible embeddings with GloVe"
   ]
  },
  {
   "cell_type": "markdown",
   "id": "cbf65ab5",
   "metadata": {},
   "source": [
    "## Functions"
   ]
  },
  {
   "cell_type": "code",
   "execution_count": 3,
   "id": "21f91bae",
   "metadata": {
    "ExecuteTime": {
     "end_time": "2021-05-16T16:29:25.977117Z",
     "start_time": "2021-05-16T16:29:25.763866Z"
    }
   },
   "outputs": [],
   "source": [
    "import time\n",
    "import numpy as np\n",
    "from IPython.lib.display import Audio\n",
    "\n",
    "start = time.time()\n",
    "def time_exp(x):\n",
    "    #Just print how many minutes and seconds have passed\n",
    "    minutes, seconds = np.floor(x/60), 60*(x/60-np.floor(x/60))\n",
    "    print(f\"{'{:.0f}'.format(minutes)} minutos con {'{:.2f}'.format(seconds)} segundos\")\n",
    "    \n",
    "def tone(a=1000, b=700, play_time_seconds=1, framerate=4410):\n",
    "    #Make a sound! Useful while training models\n",
    "    t = np.linspace(0, play_time_seconds, framerate*play_time_seconds)*np.pi\n",
    "    return Audio(np.sin(a*t)+np.sin(b*t), rate=framerate, autoplay=True)"
   ]
  },
  {
   "cell_type": "code",
   "execution_count": 4,
   "id": "5bc23729",
   "metadata": {
    "ExecuteTime": {
     "end_time": "2021-05-16T16:29:28.652602Z",
     "start_time": "2021-05-16T16:29:25.979363Z"
    }
   },
   "outputs": [
    {
     "name": "stdout",
     "output_type": "stream",
     "text": [
      "\n",
      "Original:\t\t I am going to run!!! I ran while I was running??? ...\n",
      "Basic cleaning:\t\t I am going to run I ran while I was running\n",
      "Changing the pattern:\t I am going to run!!! I ran while I was running ...\n",
      "Without stopwords:\t I going run I ran I running\n",
      "Lower and lemma:\t i be go to run i run while i be run\n",
      "Super cleaning:\t\t run\n",
      "\n",
      "It actually corrects the weird accents, example\n",
      "\tFROM:\t ThÈ ÉfrâïsMã's?...\n",
      "\tTO:\t the efraisma's\n"
     ]
    }
   ],
   "source": [
    "#Uncomment the following lines if it's the first time you run this packages\n",
    "'''\n",
    "!pip install nltk\n",
    "import nltk\n",
    "nltk.download('stopwords')\n",
    "nltk.download('wordnet')\n",
    "'''\n",
    "import re\n",
    "import unicodedata\n",
    "from nltk.corpus import stopwords\n",
    "from nltk.stem import WordNetLemmatizer\n",
    "\n",
    "lem = WordNetLemmatizer()\n",
    "\n",
    "def clean_text(text,\n",
    "               language='english',pattern=\"[^a-zA-Z'\\s]\",\n",
    "               lower=False,lemma=False,rem_stopw=False,unique=False,\n",
    "               add_stopw=[]):\n",
    "    #It clean and can remove stopwords or even lemmatize words if specified in params\n",
    "    cleaned_text = unicodedata.normalize('NFD',str(text).replace('\\n',' \\n ')).encode('ascii', 'ignore')\n",
    "    cleaned_text = re.sub(pattern,' ',cleaned_text.decode('utf-8'),flags=re.UNICODE)\n",
    "    cleaned_text = [(lem.lemmatize(word,pos='v') if lemma else word) for word in \n",
    "                    (cleaned_text.lower().split() if lower else cleaned_text.split())]\n",
    "    if rem_stopw: cleaned_text = [word for word in cleaned_text if word not in \n",
    "                                  stopwords.words(language)+add_stopw]\n",
    "    return ' '.join((set(cleaned_text) if unique else cleaned_text))\n",
    "\n",
    "#Ex\n",
    "ex = \"I am going to run!!! I ran while I was running??? ...\"\n",
    "print('\\nOriginal:\\t\\t',ex)\n",
    "print('Basic cleaning:\\t\\t',clean_text(ex))\n",
    "print('Changing the pattern:\\t',clean_text(ex,pattern=\"[^a-zA-Z!\\.]\"))\n",
    "print('Without stopwords:\\t',clean_text(ex,rem_stopw=True))\n",
    "print('Lower and lemma:\\t',clean_text(ex,lower=True,lemma=True))\n",
    "print('Super cleaning:\\t\\t',clean_text(ex,add_stopw=['go'],lower=True,rem_stopw=True,lemma=True,unique=True))\n",
    "print(\"\\nIt actually corrects the weird accents, example\\n\\tFROM:\\t ThÈ ÉfrâïsMã's?...\\n\\tTO:\\t\",clean_text(\"ThÈ ÉfrâïsMa's?...\",lower=True))"
   ]
  },
  {
   "cell_type": "code",
   "execution_count": 5,
   "id": "0263bb7b",
   "metadata": {
    "ExecuteTime": {
     "end_time": "2021-05-16T16:29:28.699640Z",
     "start_time": "2021-05-16T16:29:28.654251Z"
    }
   },
   "outputs": [
    {
     "name": "stdout",
     "output_type": "stream",
     "text": [
      "{'neg': 0.0, 'neu': 0.192, 'pos': 0.808, 'compound': 0.6369}\n",
      "{'neg': 0.787, 'neu': 0.213, 'pos': 0.0, 'compound': -0.5719}\n",
      "{'neg': 0.0, 'neu': 0.476, 'pos': 0.524, 'compound': 0.296}\n"
     ]
    }
   ],
   "source": [
    "from nltk import sent_tokenize\n",
    "from nltk.sentiment.vader import SentimentIntensityAnalyzer\n",
    "\n",
    "def sentiment(text):\n",
    "    sid = SentimentIntensityAnalyzer()\n",
    "    try:\n",
    "        list(map(sid.polarity_scores,sent_tokenize(text)))[0]\n",
    "    except:\n",
    "        sentences = sent_tokenize('a')\n",
    "    else:\n",
    "        sentences = sent_tokenize(text)\n",
    "    res = map(sid.polarity_scores, sentences)\n",
    "    return list(res)[0]\n",
    "\n",
    "print(sentiment('I love it'))\n",
    "print(sentiment('I hate it'))\n",
    "print(sentiment('It is ok'))"
   ]
  },
  {
   "cell_type": "markdown",
   "id": "6908feb0",
   "metadata": {},
   "source": [
    "The tutorial for Transfer Embedding is right here!\n",
    "\n",
    "<https://keras.io/examples/nlp/pretrained_word_embeddings/>\n",
    "\n",
    "If you're running this in GColab, uncomment the following lines to unzip the GloVe embeddings\n",
    "\n",
    "(more info about GloVe at <https://nlp.stanford.edu/projects/glove/)>\n",
    "\n",
    "but if you're working locally, move the files from the zip to your base_dir"
   ]
  },
  {
   "cell_type": "code",
   "execution_count": 6,
   "id": "77242d4a",
   "metadata": {
    "ExecuteTime": {
     "end_time": "2021-05-16T16:29:34.702156Z",
     "start_time": "2021-05-16T16:29:28.701758Z"
    }
   },
   "outputs": [],
   "source": [
    "import numpy as np\n",
    "from tensorflow.keras.preprocessing.text import Tokenizer\n",
    "\n",
    "'''!wget http://nlp.stanford.edu/data/glove.6B.zip \n",
    "!unzip -q glove.6B.zip'''\n",
    "\n",
    "def transfer_embedding(base_dir,fitted_tokenizer,embedding_dim_out):\n",
    "    #Get the pre-trained vectors as a dict\n",
    "    emb_dict = {}\n",
    "    with open(os.path.join(base_dir,f'glove.6B.{embedding_dim_out}d.txt')) as f:\n",
    "        for line in f:\n",
    "            #Each line is a word with its coef sep by \\s\n",
    "            word, coefs = line.split(maxsplit=1)\n",
    "            #Like .split() transforming strings into an array\n",
    "            coefs = np.fromstring(coefs,'f',sep=' ')\n",
    "            #Update the dict with a new word and its coef\n",
    "            emb_dict[word] = coefs\n",
    "    #Keep track of the not-found words\n",
    "    misses = []\n",
    "    #Build a matrix full of zeros\n",
    "    total_words = fitted_tokenizer.word_index\n",
    "    words_matrix = np.zeros((len(total_words),embedding_dim_out))\n",
    "    #Loop over the words-indexes...\n",
    "    for word, i in total_words.items():\n",
    "        #... to get its pre-trained value\n",
    "        try: word_vector = emb_dict[word]\n",
    "        #Some words won't be found, keep the zeros-vector\n",
    "        except: misses.append(word)\n",
    "        #Finally, transfer the pre-trained vector\n",
    "        else: words_matrix[i-1] = word_vector\n",
    "    print(f'Transfered {\"{:.1%}\".format(1-len(misses)/len(total_words))}% of {len(total_words)} words, just {len(misses)} were not found.')\n",
    "    #Returns the dict_index of every word and other dict with its embedding\n",
    "    return total_words,dict(zip(total_words.keys(),words_matrix)),misses"
   ]
  },
  {
   "cell_type": "markdown",
   "id": "a51857a3",
   "metadata": {
    "ExecuteTime": {
     "end_time": "2021-05-16T14:05:47.556769Z",
     "start_time": "2021-05-16T14:05:47.540812Z"
    }
   },
   "source": [
    "from PIL import Image\n",
    "from wordcloud import WordCloud\n",
    "\n",
    "def get_wordcloud(text,image_dir,image_name,n_title=20,repeat=False):\n",
    "    #Sub-función para desplegar la imagen\n",
    "    def plot_data(data):\n",
    "      plt.imshow(data, interpolation='nearest')\n",
    "      plt.show()\n",
    "        \n",
    "    ##IMPORTAR    \n",
    "    orig = Image.open(image_dir + image_name)\n",
    "    plot_data(np.array(orig))\n",
    "    \n",
    "    #AJUSTAR\n",
    "    img = Image.new('RGB', orig.size, (255,255,255))\n",
    "    try:\n",
    "        img.paste(orig,orig) #ajusta la parte transparente pa que no se interprete como negro\n",
    "    except:\n",
    "        mask = np.array(orig)\n",
    "    else:\n",
    "        img.paste(orig,orig)\n",
    "        mask = np.array(img) #convierte la imagen a datos (# de color)\n",
    "    wordcloud = WordCloud(mask = mask, #lienzo para las palabras\n",
    "                          #dirección de fuente (tipo de letra)\n",
    "                          font_path = '/usr/share/fonts/opentype/urw-base35/URWGothic-DemiOblique.otf',\n",
    "                          color_func = lambda *args, **kwargs: 'white', #letras blancas\n",
    "                          include_numbers = True,\n",
    "                          prefer_horizontal = 0.83, #porcentaje de palabras horizontales\n",
    "                          background_color = 'black', \n",
    "                          max_words = 10000,\n",
    "                          max_font_size = 73,\n",
    "                          repeat = repeat) #se repiten las palabras?\n",
    "    wordcloud.generate(text+(' '+image_name[:-4].replace('_','-')+' ')*n_title\n",
    "                      ).to_file(image_dir +f'WP_{image_name[:-4]}.png') #guarda como png\n",
    "    wordcloud = Image.open(image_dir +f'WP_{image_name[:-4]}.png').convert('RGBA')\n",
    "    datas = wordcloud.getdata() #para obtener nuevamente la info en datos (RGBA contempla transparencia en el último elem)\n",
    "    wordcloud.putdata([(255,255,255,0) if x[0]==x[1]==x[2]!=255 else x for x in datas]) #si el color no es blanco (letras) vuelve transparente al pixelo\n",
    "    wordcloud.paste(orig, box = (0,0), mask = wordcloud) #se sobrepone contra la orignal\n",
    "    wordcloud.save(image_dir +f'WP_{image_name[:-4]}.png') #guarda la nueva imagen como png\n",
    "    display(wordcloud)"
   ]
  },
  {
   "cell_type": "code",
   "execution_count": 7,
   "id": "0a47c7d1",
   "metadata": {
    "ExecuteTime": {
     "end_time": "2021-05-16T16:29:34.873125Z",
     "start_time": "2021-05-16T16:29:34.706817Z"
    }
   },
   "outputs": [],
   "source": [
    "'''!pip install pygal'''\n",
    "import pygal\n",
    "from sklearn.cluster import KMeans\n",
    "from sklearn.metrics import davies_bouldin_score, silhouette_score, silhouette_samples\n",
    "\n",
    "def koptimo(df):\n",
    "    sse,db,slc = {}, {}, {}\n",
    "    for k in range(2, 16):\n",
    "        kmeans = KMeans(n_clusters = k, max_iter= 100, random_state = 22).fit(df)\n",
    "        if k == 3: labels = kmeans.labels_\n",
    "        clusters = kmeans.labels_\n",
    "        sse[k] = kmeans.inertia_ \n",
    "        db[k] = davies_bouldin_score(df, clusters)\n",
    "        slc[k] = silhouette_score(df, clusters)\n",
    "\n",
    "    dicts = [sse,db,slc]\n",
    "\n",
    "    for dicc in dicts:\n",
    "        min_value = min(list(dicc.values()))\n",
    "        max_value = max(list(dicc.values()))\n",
    "        for k in dicc.keys():\n",
    "            dicc[k] = (dicc[k] - min_value + 1)/(max_value - min_value + 1)\n",
    "\n",
    "    line_chart = pygal.Line()\n",
    "    line_chart.title = 'K-óptimo'\n",
    "    line_chart.x_labels = map(str, sse.keys())\n",
    "    for name, dicc in zip(['Inertia','DB','Silhouette'],dicts):\n",
    "        line_chart.add(name, list(map(lambda x: round(x,2), dicc.values())))\n",
    "    display(line_chart)"
   ]
  },
  {
   "cell_type": "code",
   "execution_count": 8,
   "id": "22a6149c",
   "metadata": {
    "ExecuteTime": {
     "end_time": "2021-05-16T16:29:35.748601Z",
     "start_time": "2021-05-16T16:29:34.875631Z"
    }
   },
   "outputs": [],
   "source": [
    "'''!pip install seaborn'''\n",
    "import string\n",
    "import warnings\n",
    "import seaborn as sns\n",
    "import matplotlib.pyplot as plt\n",
    "from sklearn.cluster import KMeans\n",
    "from sklearn.pipeline import Pipeline\n",
    "from sklearn.decomposition import PCA\n",
    "from sklearn.mixture import GaussianMixture\n",
    "from sklearn.preprocessing import MinMaxScaler\n",
    "\n",
    "warnings.filterwarnings('ignore')\n",
    "\n",
    "def clustering(df,\n",
    "               cols,\n",
    "               n_clusters=5,\n",
    "               kmeans=False):\n",
    "    df = df.copy()\n",
    "    mm_df = MinMaxScaler()\n",
    "    Xs = pd.DataFrame(mm_df.fit_transform(df[cols]), \n",
    "                      index = df.index,\n",
    "                      columns = cols)\n",
    "    \n",
    "    cluster = (KMeans(n_clusters, random_state=22) if kmeans \n",
    "               else GaussianMixture(n_clusters, random_state=22))\n",
    "    Xs['cluster'] = cluster.fit_predict(Xs)\n",
    "    \n",
    "    dict_cluster = dict(enumerate(string.ascii_uppercase[:n_clusters]))\n",
    "    df['cluster'] = Xs['cluster'].map(dict_cluster) \n",
    "    print(f'Distribución de registros en los {n_clusters} clústeres')\n",
    "    display(df['cluster'].value_counts(1).reset_index().sort_values(by='index'))\n",
    "\n",
    "    pca = PCA(2)\n",
    "    pipe_pca = Pipeline(steps=[('MinMax', mm_df),('PCA', pca)])\n",
    "    Xg = pd.DataFrame(pipe_pca.fit_transform(df.iloc[:,:-1]), \n",
    "                      index = df.index,\n",
    "                      columns = ['p1','p2'])\n",
    "    Xg['cluster'] = df['cluster'].copy()\n",
    "    print(f'Varianza explicada con 2dim: {\"{:.1%}\".format(pca.explained_variance_ratio_.sum())}')\n",
    "    \n",
    "    plt.figure(figsize=(10,6))\n",
    "    sns.scatterplot(data=Xg.sort_values(by='cluster'),\n",
    "                    x='p1',\n",
    "                    y='p2',\n",
    "                    alpha=0.5,\n",
    "                    hue='cluster', \n",
    "                    palette = 'Paired')\n",
    "    plt.legend(bbox_to_anchor=(1.01, 1),borderaxespad=0)\n",
    "    plt.show();\n",
    "    \n",
    "    return df"
   ]
  },
  {
   "cell_type": "code",
   "execution_count": 9,
   "id": "fca4813b",
   "metadata": {
    "ExecuteTime": {
     "end_time": "2021-05-16T16:29:35.761418Z",
     "start_time": "2021-05-16T16:29:35.750796Z"
    }
   },
   "outputs": [],
   "source": [
    "def perfilamiento(df,cols=None,cluster='cluster'):\n",
    "    n_clusters = len(set(df[cluster]))\n",
    "    \n",
    "    if cols==None:\n",
    "        cols=df.columns\n",
    "        aux = df[cols].groupby(cluster).mean()\n",
    "        #aux = aux.transpose()\n",
    "        for col in aux.columns:\n",
    "            aux[col] /= aux[col].sum()\n",
    "\n",
    "        fig = plt.figure()\n",
    "        fig, ax = plt.subplots(figsize=(int(n_clusters/1.5),max(1,int(len(aux.columns)/3))))\n",
    "        fig.patch.set_facecolor('white')\n",
    "        fig.patch.set_alpha(0.9)\n",
    "        sns.heatmap(aux.transpose(),cmap='Blues')\n",
    "        plt.show();\n",
    "        \n",
    "    else:\n",
    "        for col in cols:\n",
    "            aux = df.copy()\n",
    "            aux['n'] = 1\n",
    "            aux = aux.pivot_table(index=cluster,\n",
    "                                  columns=col,\n",
    "                                  values='n',\n",
    "                                  aggfunc='count',\n",
    "                                  fill_value=0)\n",
    "            for columna in aux.columns:\n",
    "                aux[columna] /= aux[columna].sum()\n",
    "\n",
    "            fig = plt.figure()\n",
    "            fig, ax = plt.subplots(figsize=(int(n_clusters/1.5),max(1,int(len(set(df[col]))/4))))\n",
    "            fig.patch.set_facecolor('white')\n",
    "            fig.patch.set_alpha(0.9)\n",
    "            sns.heatmap(aux.transpose(), cmap = 'Blues')\n",
    "            plt.show();"
   ]
  },
  {
   "cell_type": "markdown",
   "id": "f14328e8",
   "metadata": {},
   "source": [
    "## Transform"
   ]
  },
  {
   "cell_type": "markdown",
   "id": "e2f0c439",
   "metadata": {},
   "source": [
    "### Sentences"
   ]
  },
  {
   "cell_type": "code",
   "execution_count": 10,
   "id": "50394936",
   "metadata": {
    "ExecuteTime": {
     "end_time": "2021-05-16T16:29:35.768603Z",
     "start_time": "2021-05-16T16:29:35.763336Z"
    }
   },
   "outputs": [
    {
     "name": "stdout",
     "output_type": "stream",
     "text": [
      "['\"The Last Question By Isaac Asimov  This is by far my favorite story of all those I have written', '  ']\n"
     ]
    }
   ],
   "source": [
    "with open(os.path.join(BASE_DIR,'corpus.txt')) as txt:\n",
    "    #Make sentences with the split-pattern provided and return just the non-empty sentences\n",
    "    corpus = [x for x in re.split(SPLIT_PATTERN,txt.read()) if len(x)>0]\n",
    "    \n",
    "print(corpus[:2])"
   ]
  },
  {
   "cell_type": "markdown",
   "id": "a507630c",
   "metadata": {},
   "source": [
    "### Features"
   ]
  },
  {
   "cell_type": "code",
   "execution_count": 11,
   "id": "569cfc0b",
   "metadata": {
    "ExecuteTime": {
     "end_time": "2021-05-16T16:29:43.706973Z",
     "start_time": "2021-05-16T16:29:35.770497Z"
    }
   },
   "outputs": [
    {
     "data": {
      "text/html": [
       "<div>\n",
       "<style scoped>\n",
       "    .dataframe tbody tr th:only-of-type {\n",
       "        vertical-align: middle;\n",
       "    }\n",
       "\n",
       "    .dataframe tbody tr th {\n",
       "        vertical-align: top;\n",
       "    }\n",
       "\n",
       "    .dataframe thead th {\n",
       "        text-align: right;\n",
       "    }\n",
       "</style>\n",
       "<table border=\"1\" class=\"dataframe\">\n",
       "  <thead>\n",
       "    <tr style=\"text-align: right;\">\n",
       "      <th></th>\n",
       "      <th>sentence</th>\n",
       "      <th>clean</th>\n",
       "      <th>min_text</th>\n",
       "      <th>length</th>\n",
       "      <th>relevance</th>\n",
       "      <th>neg</th>\n",
       "      <th>neu</th>\n",
       "      <th>pos</th>\n",
       "      <th>compound</th>\n",
       "    </tr>\n",
       "  </thead>\n",
       "  <tbody>\n",
       "    <tr>\n",
       "      <th>945</th>\n",
       "      <td>spendthrifts</td>\n",
       "      <td>spendthrifts</td>\n",
       "      <td>spendthrifts a</td>\n",
       "      <td>12</td>\n",
       "      <td>1.166667</td>\n",
       "      <td>0.0</td>\n",
       "      <td>1.0</td>\n",
       "      <td>0.0</td>\n",
       "      <td>0.0</td>\n",
       "    </tr>\n",
       "  </tbody>\n",
       "</table>\n",
       "</div>"
      ],
      "text/plain": [
       "          sentence         clean        min_text  length  relevance  neg  neu  \\\n",
       "945   spendthrifts  spendthrifts  spendthrifts a      12   1.166667  0.0  1.0   \n",
       "\n",
       "     pos  compound  \n",
       "945  0.0       0.0  "
      ]
     },
     "execution_count": 11,
     "metadata": {},
     "output_type": "execute_result"
    }
   ],
   "source": [
    "import pandas as pd\n",
    "df = pd.DataFrame(corpus,columns=['sentence'])\n",
    "df['clean'] = df['sentence'].apply(lambda x: clean_text(x,lower=True,pattern=\"[^a-zA-Z\\s]\"))\n",
    "df['min_text'] = df['sentence'].apply(lambda x: clean_text(x,lower=True,lemma=True,pattern=\"[^a-zA-Z\\s]\",\n",
    "                                                           rem_stopw=True,unique=True)+' a')\n",
    "df['length'] = df['clean'].apply(len)\n",
    "df['relevance'] = df['min_text'].apply(len) / (df['length']+1e-10)\n",
    "df = df.join(pd.DataFrame(list(map(sentiment,df['clean']))))\n",
    "df.sample()"
   ]
  },
  {
   "cell_type": "markdown",
   "id": "7643dadf",
   "metadata": {},
   "source": [
    "### Embedding"
   ]
  },
  {
   "cell_type": "code",
   "execution_count": 12,
   "id": "d6ec16d6",
   "metadata": {
    "ExecuteTime": {
     "end_time": "2021-05-16T16:30:09.623701Z",
     "start_time": "2021-05-16T16:29:43.709364Z"
    }
   },
   "outputs": [
    {
     "name": "stdout",
     "output_type": "stream",
     "text": [
      "Transfered 94.0%% of 963 words, just 58 were not found.\n",
      "['jerrodd', 'lupov', 'microvac', 'jerrodine', 'jerrodette', 'visiplate', 'hyperspatial', 'cellufilm', 'correcti', 'glor', 'vacati', 'originall', 'individu', 'lupow', 'thinki', 'insufficien', 'obbing', 'centere', 'jerrodettes', 'insideoutness', 'rrodd', 'lengt', 'squa', 'nement', 'etary', 'anci', 'planetarv', 'rth', 'whis', 'pered', 'rodette', 'crovac', 'agai', 'insuficient', 'lameth', 'nicron', 'infi', 'possi', 'fteen', 'eath', 'gaiaxy', 'geomet', 'ooner', 'somethi', 'submesons', 'univer', 'ndering', 'tlme', 'laxy', 'interste', 'llar', 'matons', 'dimmi', 'predecesors', 'tlmes', 'concei', 'vable', 'demonstrati']\n"
     ]
    }
   ],
   "source": [
    "#Tokenize the words to feed the ANN\n",
    "tokenizer = Tokenizer()\n",
    "tokenizer.fit_on_texts(df['min_text'])\n",
    "total_words,words_matrix,missed_words = transfer_embedding(BASE_DIR,tokenizer,EMBEDDING_DIM)\n",
    "print(missed_words)"
   ]
  },
  {
   "cell_type": "code",
   "execution_count": 13,
   "id": "c9949299",
   "metadata": {
    "ExecuteTime": {
     "end_time": "2021-05-16T16:30:11.859854Z",
     "start_time": "2021-05-16T16:30:09.627299Z"
    }
   },
   "outputs": [],
   "source": [
    "from sklearn.decomposition import PCA\n",
    "\n",
    "for perc in range(10,100,10):\n",
    "    aux = df['min_text'].apply(lambda row:np.percentile(np.array([words_matrix[x]\n",
    "                                                                  for x in row.split()]),\n",
    "                                                        perc,axis=0))\n",
    "    aux = pd.DataFrame(aux)\n",
    "    aux = pd.DataFrame(aux['min_text'].to_list())\n",
    "    aux = pd.DataFrame(PCA(.9).fit_transform(aux))\n",
    "    df=df.join(aux.rename(columns={x:str(perc)+'_'+str(x).zfill(2) for x in aux.columns}))"
   ]
  },
  {
   "cell_type": "code",
   "execution_count": 14,
   "id": "b263b50a",
   "metadata": {
    "ExecuteTime": {
     "end_time": "2021-05-16T16:30:11.906944Z",
     "start_time": "2021-05-16T16:30:11.861747Z"
    }
   },
   "outputs": [
    {
     "data": {
      "text/html": [
       "<div>\n",
       "<style scoped>\n",
       "    .dataframe tbody tr th:only-of-type {\n",
       "        vertical-align: middle;\n",
       "    }\n",
       "\n",
       "    .dataframe tbody tr th {\n",
       "        vertical-align: top;\n",
       "    }\n",
       "\n",
       "    .dataframe thead th {\n",
       "        text-align: right;\n",
       "    }\n",
       "</style>\n",
       "<table border=\"1\" class=\"dataframe\">\n",
       "  <thead>\n",
       "    <tr style=\"text-align: right;\">\n",
       "      <th></th>\n",
       "      <th></th>\n",
       "      <th>length</th>\n",
       "      <th>relevance</th>\n",
       "      <th>neg</th>\n",
       "      <th>neu</th>\n",
       "      <th>pos</th>\n",
       "      <th>compound</th>\n",
       "      <th>10_00</th>\n",
       "      <th>10_01</th>\n",
       "      <th>10_02</th>\n",
       "      <th>10_03</th>\n",
       "      <th>...</th>\n",
       "      <th>90_79</th>\n",
       "      <th>90_80</th>\n",
       "      <th>90_81</th>\n",
       "      <th>90_82</th>\n",
       "      <th>90_83</th>\n",
       "      <th>90_84</th>\n",
       "      <th>90_85</th>\n",
       "      <th>90_86</th>\n",
       "      <th>90_87</th>\n",
       "      <th>90_88</th>\n",
       "    </tr>\n",
       "    <tr>\n",
       "      <th>clean</th>\n",
       "      <th>min_text</th>\n",
       "      <th></th>\n",
       "      <th></th>\n",
       "      <th></th>\n",
       "      <th></th>\n",
       "      <th></th>\n",
       "      <th></th>\n",
       "      <th></th>\n",
       "      <th></th>\n",
       "      <th></th>\n",
       "      <th></th>\n",
       "      <th></th>\n",
       "      <th></th>\n",
       "      <th></th>\n",
       "      <th></th>\n",
       "      <th></th>\n",
       "      <th></th>\n",
       "      <th></th>\n",
       "      <th></th>\n",
       "      <th></th>\n",
       "      <th></th>\n",
       "      <th></th>\n",
       "    </tr>\n",
       "  </thead>\n",
       "  <tbody>\n",
       "    <tr>\n",
       "      <th>no problem</th>\n",
       "      <th>problem a</th>\n",
       "      <td>10</td>\n",
       "      <td>0.9</td>\n",
       "      <td>1.0</td>\n",
       "      <td>0.0</td>\n",
       "      <td>0.0</td>\n",
       "      <td>-0.5994</td>\n",
       "      <td>0.850654</td>\n",
       "      <td>0.400117</td>\n",
       "      <td>0.097637</td>\n",
       "      <td>0.494999</td>\n",
       "      <td>...</td>\n",
       "      <td>0.08381</td>\n",
       "      <td>0.148902</td>\n",
       "      <td>0.000404</td>\n",
       "      <td>-0.007046</td>\n",
       "      <td>0.109979</td>\n",
       "      <td>0.062933</td>\n",
       "      <td>0.339888</td>\n",
       "      <td>-0.018919</td>\n",
       "      <td>-0.004954</td>\n",
       "      <td>-0.122261</td>\n",
       "    </tr>\n",
       "  </tbody>\n",
       "</table>\n",
       "<p>1 rows × 941 columns</p>\n",
       "</div>"
      ],
      "text/plain": [
       "                      length  relevance  neg  neu  pos  compound     10_00  \\\n",
       "clean      min_text                                                          \n",
       "no problem problem a      10        0.9  1.0  0.0  0.0   -0.5994  0.850654   \n",
       "\n",
       "                         10_01     10_02     10_03  ...    90_79     90_80  \\\n",
       "clean      min_text                                 ...                      \n",
       "no problem problem a  0.400117  0.097637  0.494999  ...  0.08381  0.148902   \n",
       "\n",
       "                         90_81     90_82     90_83     90_84     90_85  \\\n",
       "clean      min_text                                                      \n",
       "no problem problem a  0.000404 -0.007046  0.109979  0.062933  0.339888   \n",
       "\n",
       "                         90_86     90_87     90_88  \n",
       "clean      min_text                                 \n",
       "no problem problem a -0.018919 -0.004954 -0.122261  \n",
       "\n",
       "[1 rows x 941 columns]"
      ]
     },
     "execution_count": 14,
     "metadata": {},
     "output_type": "execute_result"
    }
   ],
   "source": [
    "df = df.set_index(['clean','min_text']).drop(columns=['sentence'])\n",
    "df.sample()"
   ]
  },
  {
   "cell_type": "markdown",
   "id": "13fd01b6",
   "metadata": {},
   "source": [
    "## WordCloud"
   ]
  },
  {
   "cell_type": "code",
   "execution_count": null,
   "id": "ddd57476",
   "metadata": {},
   "outputs": [],
   "source": []
  },
  {
   "cell_type": "markdown",
   "id": "faf91c2a",
   "metadata": {
    "ExecuteTime": {
     "end_time": "2021-05-16T01:49:19.321862Z",
     "start_time": "2021-05-16T01:49:19.317406Z"
    }
   },
   "source": [
    "## Clustering"
   ]
  },
  {
   "cell_type": "markdown",
   "id": "f2ea7a74",
   "metadata": {},
   "source": [
    "### N clusters"
   ]
  },
  {
   "cell_type": "code",
   "execution_count": 15,
   "id": "ddde56a8",
   "metadata": {
    "ExecuteTime": {
     "end_time": "2021-05-16T16:30:16.074930Z",
     "start_time": "2021-05-16T16:30:11.909475Z"
    }
   },
   "outputs": [
    {
     "ename": "ModuleNotFoundError",
     "evalue": "No module named 'cairosvg'",
     "output_type": "error",
     "traceback": [
      "\u001b[0;31m---------------------------------------------------------------------------\u001b[0m",
      "\u001b[0;31mModuleNotFoundError\u001b[0m                       Traceback (most recent call last)",
      "\u001b[0;32m/Library/Frameworks/Python.framework/Versions/3.9/lib/python3.9/site-packages/IPython/core/formatters.py\u001b[0m in \u001b[0;36m__call__\u001b[0;34m(self, obj)\u001b[0m\n\u001b[1;32m    343\u001b[0m             \u001b[0mmethod\u001b[0m \u001b[0;34m=\u001b[0m \u001b[0mget_real_method\u001b[0m\u001b[0;34m(\u001b[0m\u001b[0mobj\u001b[0m\u001b[0;34m,\u001b[0m \u001b[0mself\u001b[0m\u001b[0;34m.\u001b[0m\u001b[0mprint_method\u001b[0m\u001b[0;34m)\u001b[0m\u001b[0;34m\u001b[0m\u001b[0;34m\u001b[0m\u001b[0m\n\u001b[1;32m    344\u001b[0m             \u001b[0;32mif\u001b[0m \u001b[0mmethod\u001b[0m \u001b[0;32mis\u001b[0m \u001b[0;32mnot\u001b[0m \u001b[0;32mNone\u001b[0m\u001b[0;34m:\u001b[0m\u001b[0;34m\u001b[0m\u001b[0;34m\u001b[0m\u001b[0m\n\u001b[0;32m--> 345\u001b[0;31m                 \u001b[0;32mreturn\u001b[0m \u001b[0mmethod\u001b[0m\u001b[0;34m(\u001b[0m\u001b[0;34m)\u001b[0m\u001b[0;34m\u001b[0m\u001b[0;34m\u001b[0m\u001b[0m\n\u001b[0m\u001b[1;32m    346\u001b[0m             \u001b[0;32mreturn\u001b[0m \u001b[0;32mNone\u001b[0m\u001b[0;34m\u001b[0m\u001b[0;34m\u001b[0m\u001b[0m\n\u001b[1;32m    347\u001b[0m         \u001b[0;32melse\u001b[0m\u001b[0;34m:\u001b[0m\u001b[0;34m\u001b[0m\u001b[0;34m\u001b[0m\u001b[0m\n",
      "\u001b[0;32m~/Desktop/hub/asimov_generator/venv/lib/python3.9/site-packages/pygal/graph/base.py\u001b[0m in \u001b[0;36m_repr_png_\u001b[0;34m(self)\u001b[0m\n\u001b[1;32m    232\u001b[0m     \u001b[0;32mdef\u001b[0m \u001b[0m_repr_png_\u001b[0m\u001b[0;34m(\u001b[0m\u001b[0mself\u001b[0m\u001b[0;34m)\u001b[0m\u001b[0;34m:\u001b[0m\u001b[0;34m\u001b[0m\u001b[0;34m\u001b[0m\u001b[0m\n\u001b[1;32m    233\u001b[0m         \u001b[0;34m\"\"\"Display png in IPython notebook\"\"\"\u001b[0m\u001b[0;34m\u001b[0m\u001b[0;34m\u001b[0m\u001b[0m\n\u001b[0;32m--> 234\u001b[0;31m         \u001b[0;32mreturn\u001b[0m \u001b[0mself\u001b[0m\u001b[0;34m.\u001b[0m\u001b[0mrender_to_png\u001b[0m\u001b[0;34m(\u001b[0m\u001b[0;34m)\u001b[0m\u001b[0;34m\u001b[0m\u001b[0;34m\u001b[0m\u001b[0m\n\u001b[0m",
      "\u001b[0;32m~/Desktop/hub/asimov_generator/venv/lib/python3.9/site-packages/pygal/graph/public.py\u001b[0m in \u001b[0;36mrender_to_png\u001b[0;34m(self, filename, dpi, **kwargs)\u001b[0m\n\u001b[1;32m    116\u001b[0m     \u001b[0;32mdef\u001b[0m \u001b[0mrender_to_png\u001b[0m\u001b[0;34m(\u001b[0m\u001b[0mself\u001b[0m\u001b[0;34m,\u001b[0m \u001b[0mfilename\u001b[0m\u001b[0;34m=\u001b[0m\u001b[0;32mNone\u001b[0m\u001b[0;34m,\u001b[0m \u001b[0mdpi\u001b[0m\u001b[0;34m=\u001b[0m\u001b[0;36m72\u001b[0m\u001b[0;34m,\u001b[0m \u001b[0;34m**\u001b[0m\u001b[0mkwargs\u001b[0m\u001b[0;34m)\u001b[0m\u001b[0;34m:\u001b[0m\u001b[0;34m\u001b[0m\u001b[0;34m\u001b[0m\u001b[0m\n\u001b[1;32m    117\u001b[0m         \u001b[0;34m\"\"\"Render the graph, convert it to png and write it to filename\"\"\"\u001b[0m\u001b[0;34m\u001b[0m\u001b[0;34m\u001b[0m\u001b[0m\n\u001b[0;32m--> 118\u001b[0;31m         \u001b[0;32mimport\u001b[0m \u001b[0mcairosvg\u001b[0m\u001b[0;34m\u001b[0m\u001b[0;34m\u001b[0m\u001b[0m\n\u001b[0m\u001b[1;32m    119\u001b[0m         return cairosvg.svg2png(\n\u001b[1;32m    120\u001b[0m             bytestring=self.render(**kwargs), write_to=filename, dpi=dpi)\n",
      "\u001b[0;31mModuleNotFoundError\u001b[0m: No module named 'cairosvg'"
     ]
    },
    {
     "data": {
      "image/svg+xml": [
       "<svg xmlns=\"http://www.w3.org/2000/svg\" xmlns:xlink=\"http://www.w3.org/1999/xlink\" id=\"chart-64c166fa-ec24-49b6-8e48-4a3d1af8f05b\" class=\"pygal-chart\" viewBox=\"0 0 800 600\"><!--Generated with pygal 2.4.0 (lxml) ©Kozea 2012-2016 on 2021-05-16--><!--http://pygal.org--><!--http://github.com/Kozea/pygal--><defs><style type=\"text/css\">#chart-64c166fa-ec24-49b6-8e48-4a3d1af8f05b{-webkit-user-select:none;-webkit-font-smoothing:antialiased;font-family:Consolas,\"Liberation Mono\",Menlo,Courier,monospace}#chart-64c166fa-ec24-49b6-8e48-4a3d1af8f05b .title{font-family:Consolas,\"Liberation Mono\",Menlo,Courier,monospace;font-size:16px}#chart-64c166fa-ec24-49b6-8e48-4a3d1af8f05b .legends .legend text{font-family:Consolas,\"Liberation Mono\",Menlo,Courier,monospace;font-size:14px}#chart-64c166fa-ec24-49b6-8e48-4a3d1af8f05b .axis text{font-family:Consolas,\"Liberation Mono\",Menlo,Courier,monospace;font-size:10px}#chart-64c166fa-ec24-49b6-8e48-4a3d1af8f05b .axis text.major{font-family:Consolas,\"Liberation Mono\",Menlo,Courier,monospace;font-size:10px}#chart-64c166fa-ec24-49b6-8e48-4a3d1af8f05b .text-overlay text.value{font-family:Consolas,\"Liberation Mono\",Menlo,Courier,monospace;font-size:16px}#chart-64c166fa-ec24-49b6-8e48-4a3d1af8f05b .text-overlay text.label{font-family:Consolas,\"Liberation Mono\",Menlo,Courier,monospace;font-size:10px}#chart-64c166fa-ec24-49b6-8e48-4a3d1af8f05b .tooltip{font-family:Consolas,\"Liberation Mono\",Menlo,Courier,monospace;font-size:14px}#chart-64c166fa-ec24-49b6-8e48-4a3d1af8f05b text.no_data{font-family:Consolas,\"Liberation Mono\",Menlo,Courier,monospace;font-size:64px}\n",
       "#chart-64c166fa-ec24-49b6-8e48-4a3d1af8f05b{background-color:rgba(249,249,249,1)}#chart-64c166fa-ec24-49b6-8e48-4a3d1af8f05b path,#chart-64c166fa-ec24-49b6-8e48-4a3d1af8f05b line,#chart-64c166fa-ec24-49b6-8e48-4a3d1af8f05b rect,#chart-64c166fa-ec24-49b6-8e48-4a3d1af8f05b circle{-webkit-transition:150ms;-moz-transition:150ms;transition:150ms}#chart-64c166fa-ec24-49b6-8e48-4a3d1af8f05b .graph &gt; .background{fill:rgba(249,249,249,1)}#chart-64c166fa-ec24-49b6-8e48-4a3d1af8f05b .plot &gt; .background{fill:rgba(255,255,255,1)}#chart-64c166fa-ec24-49b6-8e48-4a3d1af8f05b .graph{fill:rgba(0,0,0,.87)}#chart-64c166fa-ec24-49b6-8e48-4a3d1af8f05b text.no_data{fill:rgba(0,0,0,1)}#chart-64c166fa-ec24-49b6-8e48-4a3d1af8f05b .title{fill:rgba(0,0,0,1)}#chart-64c166fa-ec24-49b6-8e48-4a3d1af8f05b .legends .legend text{fill:rgba(0,0,0,.87)}#chart-64c166fa-ec24-49b6-8e48-4a3d1af8f05b .legends .legend:hover text{fill:rgba(0,0,0,1)}#chart-64c166fa-ec24-49b6-8e48-4a3d1af8f05b .axis .line{stroke:rgba(0,0,0,1)}#chart-64c166fa-ec24-49b6-8e48-4a3d1af8f05b .axis .guide.line{stroke:rgba(0,0,0,.54)}#chart-64c166fa-ec24-49b6-8e48-4a3d1af8f05b .axis .major.line{stroke:rgba(0,0,0,.87)}#chart-64c166fa-ec24-49b6-8e48-4a3d1af8f05b .axis text.major{fill:rgba(0,0,0,1)}#chart-64c166fa-ec24-49b6-8e48-4a3d1af8f05b .axis.y .guides:hover .guide.line,#chart-64c166fa-ec24-49b6-8e48-4a3d1af8f05b .line-graph .axis.x .guides:hover .guide.line,#chart-64c166fa-ec24-49b6-8e48-4a3d1af8f05b .stackedline-graph .axis.x .guides:hover .guide.line,#chart-64c166fa-ec24-49b6-8e48-4a3d1af8f05b .xy-graph .axis.x .guides:hover .guide.line{stroke:rgba(0,0,0,1)}#chart-64c166fa-ec24-49b6-8e48-4a3d1af8f05b .axis .guides:hover text{fill:rgba(0,0,0,1)}#chart-64c166fa-ec24-49b6-8e48-4a3d1af8f05b .reactive{fill-opacity:.7;stroke-opacity:.8}#chart-64c166fa-ec24-49b6-8e48-4a3d1af8f05b .ci{stroke:rgba(0,0,0,.87)}#chart-64c166fa-ec24-49b6-8e48-4a3d1af8f05b .reactive.active,#chart-64c166fa-ec24-49b6-8e48-4a3d1af8f05b .active .reactive{fill-opacity:.8;stroke-opacity:.9;stroke-width:4}#chart-64c166fa-ec24-49b6-8e48-4a3d1af8f05b .ci .reactive.active{stroke-width:1.5}#chart-64c166fa-ec24-49b6-8e48-4a3d1af8f05b .series text{fill:rgba(0,0,0,1)}#chart-64c166fa-ec24-49b6-8e48-4a3d1af8f05b .tooltip rect{fill:rgba(255,255,255,1);stroke:rgba(0,0,0,1);-webkit-transition:opacity 150ms;-moz-transition:opacity 150ms;transition:opacity 150ms}#chart-64c166fa-ec24-49b6-8e48-4a3d1af8f05b .tooltip .label{fill:rgba(0,0,0,.87)}#chart-64c166fa-ec24-49b6-8e48-4a3d1af8f05b .tooltip .label{fill:rgba(0,0,0,.87)}#chart-64c166fa-ec24-49b6-8e48-4a3d1af8f05b .tooltip .legend{font-size:.8em;fill:rgba(0,0,0,.54)}#chart-64c166fa-ec24-49b6-8e48-4a3d1af8f05b .tooltip .x_label{font-size:.6em;fill:rgba(0,0,0,1)}#chart-64c166fa-ec24-49b6-8e48-4a3d1af8f05b .tooltip .xlink{font-size:.5em;text-decoration:underline}#chart-64c166fa-ec24-49b6-8e48-4a3d1af8f05b .tooltip .value{font-size:1.5em}#chart-64c166fa-ec24-49b6-8e48-4a3d1af8f05b .bound{font-size:.5em}#chart-64c166fa-ec24-49b6-8e48-4a3d1af8f05b .max-value{font-size:.75em;fill:rgba(0,0,0,.54)}#chart-64c166fa-ec24-49b6-8e48-4a3d1af8f05b .map-element{fill:rgba(255,255,255,1);stroke:rgba(0,0,0,.54) !important}#chart-64c166fa-ec24-49b6-8e48-4a3d1af8f05b .map-element .reactive{fill-opacity:inherit;stroke-opacity:inherit}#chart-64c166fa-ec24-49b6-8e48-4a3d1af8f05b .color-0,#chart-64c166fa-ec24-49b6-8e48-4a3d1af8f05b .color-0 a:visited{stroke:#F44336;fill:#F44336}#chart-64c166fa-ec24-49b6-8e48-4a3d1af8f05b .color-1,#chart-64c166fa-ec24-49b6-8e48-4a3d1af8f05b .color-1 a:visited{stroke:#3F51B5;fill:#3F51B5}#chart-64c166fa-ec24-49b6-8e48-4a3d1af8f05b .color-2,#chart-64c166fa-ec24-49b6-8e48-4a3d1af8f05b .color-2 a:visited{stroke:#009688;fill:#009688}#chart-64c166fa-ec24-49b6-8e48-4a3d1af8f05b .text-overlay .color-0 text{fill:black}#chart-64c166fa-ec24-49b6-8e48-4a3d1af8f05b .text-overlay .color-1 text{fill:black}#chart-64c166fa-ec24-49b6-8e48-4a3d1af8f05b .text-overlay .color-2 text{fill:black}\n",
       "#chart-64c166fa-ec24-49b6-8e48-4a3d1af8f05b text.no_data{text-anchor:middle}#chart-64c166fa-ec24-49b6-8e48-4a3d1af8f05b .guide.line{fill:none}#chart-64c166fa-ec24-49b6-8e48-4a3d1af8f05b .centered{text-anchor:middle}#chart-64c166fa-ec24-49b6-8e48-4a3d1af8f05b .title{text-anchor:middle}#chart-64c166fa-ec24-49b6-8e48-4a3d1af8f05b .legends .legend text{fill-opacity:1}#chart-64c166fa-ec24-49b6-8e48-4a3d1af8f05b .axis.x text{text-anchor:middle}#chart-64c166fa-ec24-49b6-8e48-4a3d1af8f05b .axis.x:not(.web) text[transform]{text-anchor:start}#chart-64c166fa-ec24-49b6-8e48-4a3d1af8f05b .axis.x:not(.web) text[transform].backwards{text-anchor:end}#chart-64c166fa-ec24-49b6-8e48-4a3d1af8f05b .axis.y text{text-anchor:end}#chart-64c166fa-ec24-49b6-8e48-4a3d1af8f05b .axis.y text[transform].backwards{text-anchor:start}#chart-64c166fa-ec24-49b6-8e48-4a3d1af8f05b .axis.y2 text{text-anchor:start}#chart-64c166fa-ec24-49b6-8e48-4a3d1af8f05b .axis.y2 text[transform].backwards{text-anchor:end}#chart-64c166fa-ec24-49b6-8e48-4a3d1af8f05b .axis .guide.line{stroke-dasharray:4,4}#chart-64c166fa-ec24-49b6-8e48-4a3d1af8f05b .axis .major.guide.line{stroke-dasharray:6,6}#chart-64c166fa-ec24-49b6-8e48-4a3d1af8f05b .horizontal .axis.y .guide.line,#chart-64c166fa-ec24-49b6-8e48-4a3d1af8f05b .horizontal .axis.y2 .guide.line,#chart-64c166fa-ec24-49b6-8e48-4a3d1af8f05b .vertical .axis.x .guide.line{opacity:0}#chart-64c166fa-ec24-49b6-8e48-4a3d1af8f05b .horizontal .axis.always_show .guide.line,#chart-64c166fa-ec24-49b6-8e48-4a3d1af8f05b .vertical .axis.always_show .guide.line{opacity:1 !important}#chart-64c166fa-ec24-49b6-8e48-4a3d1af8f05b .axis.y .guides:hover .guide.line,#chart-64c166fa-ec24-49b6-8e48-4a3d1af8f05b .axis.y2 .guides:hover .guide.line,#chart-64c166fa-ec24-49b6-8e48-4a3d1af8f05b .axis.x .guides:hover .guide.line{opacity:1}#chart-64c166fa-ec24-49b6-8e48-4a3d1af8f05b .axis .guides:hover text{opacity:1}#chart-64c166fa-ec24-49b6-8e48-4a3d1af8f05b .nofill{fill:none}#chart-64c166fa-ec24-49b6-8e48-4a3d1af8f05b .subtle-fill{fill-opacity:.2}#chart-64c166fa-ec24-49b6-8e48-4a3d1af8f05b .dot{stroke-width:1px;fill-opacity:1}#chart-64c166fa-ec24-49b6-8e48-4a3d1af8f05b .dot.active{stroke-width:5px}#chart-64c166fa-ec24-49b6-8e48-4a3d1af8f05b .dot.negative{fill:transparent}#chart-64c166fa-ec24-49b6-8e48-4a3d1af8f05b text,#chart-64c166fa-ec24-49b6-8e48-4a3d1af8f05b tspan{stroke:none !important}#chart-64c166fa-ec24-49b6-8e48-4a3d1af8f05b .series text.active{opacity:1}#chart-64c166fa-ec24-49b6-8e48-4a3d1af8f05b .tooltip rect{fill-opacity:.95;stroke-width:.5}#chart-64c166fa-ec24-49b6-8e48-4a3d1af8f05b .tooltip text{fill-opacity:1}#chart-64c166fa-ec24-49b6-8e48-4a3d1af8f05b .showable{visibility:hidden}#chart-64c166fa-ec24-49b6-8e48-4a3d1af8f05b .showable.shown{visibility:visible}#chart-64c166fa-ec24-49b6-8e48-4a3d1af8f05b .gauge-background{fill:rgba(229,229,229,1);stroke:none}#chart-64c166fa-ec24-49b6-8e48-4a3d1af8f05b .bg-lines{stroke:rgba(249,249,249,1);stroke-width:2px}</style><script type=\"text/javascript\">window.pygal = window.pygal || {};window.pygal.config = window.pygal.config || {};window.pygal.config['64c166fa-ec24-49b6-8e48-4a3d1af8f05b'] = {\"allow_interruptions\": false, \"box_mode\": \"extremes\", \"classes\": [\"pygal-chart\"], \"css\": [\"file://style.css\", \"file://graph.css\"], \"defs\": [], \"disable_xml_declaration\": true, \"dots_size\": 2.5, \"dynamic_print_values\": false, \"explicit_size\": false, \"fill\": false, \"force_uri_protocol\": \"https\", \"formatter\": null, \"half_pie\": false, \"height\": 600, \"include_x_axis\": false, \"inner_radius\": 0, \"interpolate\": null, \"interpolation_parameters\": {}, \"interpolation_precision\": 250, \"inverse_y_axis\": false, \"js\": [\"//kozea.github.io/pygal.js/2.0.x/pygal-tooltips.min.js\"], \"legend_at_bottom\": false, \"legend_at_bottom_columns\": null, \"legend_box_size\": 12, \"logarithmic\": false, \"margin\": 20, \"margin_bottom\": null, \"margin_left\": null, \"margin_right\": null, \"margin_top\": null, \"max_scale\": 16, \"min_scale\": 4, \"missing_value_fill_truncation\": \"x\", \"no_data_text\": \"No data\", \"no_prefix\": false, \"order_min\": null, \"pretty_print\": false, \"print_labels\": false, \"print_values\": false, \"print_values_position\": \"center\", \"print_zeroes\": true, \"range\": null, \"rounded_bars\": null, \"secondary_range\": null, \"show_dots\": true, \"show_legend\": true, \"show_minor_x_labels\": true, \"show_minor_y_labels\": true, \"show_only_major_dots\": false, \"show_x_guides\": false, \"show_x_labels\": true, \"show_y_guides\": true, \"show_y_labels\": true, \"spacing\": 10, \"stack_from_top\": false, \"strict\": false, \"stroke\": true, \"stroke_style\": null, \"style\": {\"background\": \"rgba(249, 249, 249, 1)\", \"ci_colors\": [], \"colors\": [\"#F44336\", \"#3F51B5\", \"#009688\", \"#FFC107\", \"#FF5722\", \"#9C27B0\", \"#03A9F4\", \"#8BC34A\", \"#FF9800\", \"#E91E63\", \"#2196F3\", \"#4CAF50\", \"#FFEB3B\", \"#673AB7\", \"#00BCD4\", \"#CDDC39\", \"#9E9E9E\", \"#607D8B\"], \"font_family\": \"Consolas, \\\"Liberation Mono\\\", Menlo, Courier, monospace\", \"foreground\": \"rgba(0, 0, 0, .87)\", \"foreground_strong\": \"rgba(0, 0, 0, 1)\", \"foreground_subtle\": \"rgba(0, 0, 0, .54)\", \"guide_stroke_dasharray\": \"4,4\", \"label_font_family\": \"Consolas, \\\"Liberation Mono\\\", Menlo, Courier, monospace\", \"label_font_size\": 10, \"legend_font_family\": \"Consolas, \\\"Liberation Mono\\\", Menlo, Courier, monospace\", \"legend_font_size\": 14, \"major_guide_stroke_dasharray\": \"6,6\", \"major_label_font_family\": \"Consolas, \\\"Liberation Mono\\\", Menlo, Courier, monospace\", \"major_label_font_size\": 10, \"no_data_font_family\": \"Consolas, \\\"Liberation Mono\\\", Menlo, Courier, monospace\", \"no_data_font_size\": 64, \"opacity\": \".7\", \"opacity_hover\": \".8\", \"plot_background\": \"rgba(255, 255, 255, 1)\", \"stroke_opacity\": \".8\", \"stroke_opacity_hover\": \".9\", \"title_font_family\": \"Consolas, \\\"Liberation Mono\\\", Menlo, Courier, monospace\", \"title_font_size\": 16, \"tooltip_font_family\": \"Consolas, \\\"Liberation Mono\\\", Menlo, Courier, monospace\", \"tooltip_font_size\": 14, \"transition\": \"150ms\", \"value_background\": \"rgba(229, 229, 229, 1)\", \"value_colors\": [], \"value_font_family\": \"Consolas, \\\"Liberation Mono\\\", Menlo, Courier, monospace\", \"value_font_size\": 16, \"value_label_font_family\": \"Consolas, \\\"Liberation Mono\\\", Menlo, Courier, monospace\", \"value_label_font_size\": 10}, \"title\": \"K-\\u00f3ptimo\", \"tooltip_border_radius\": 0, \"tooltip_fancy_mode\": true, \"truncate_label\": null, \"truncate_legend\": null, \"width\": 800, \"x_label_rotation\": 0, \"x_labels\": [\"2\", \"3\", \"4\", \"5\", \"6\", \"7\", \"8\", \"9\", \"10\", \"11\", \"12\", \"13\", \"14\", \"15\"], \"x_labels_major\": null, \"x_labels_major_count\": null, \"x_labels_major_every\": null, \"x_title\": null, \"xrange\": null, \"y_label_rotation\": 0, \"y_labels\": null, \"y_labels_major\": null, \"y_labels_major_count\": null, \"y_labels_major_every\": null, \"y_title\": null, \"zero\": 0, \"legends\": [\"Inertia\", \"DB\", \"Silhouette\"]}</script><script type=\"text/javascript\" xlink:href=\"https://kozea.github.io/pygal.js/2.0.x/pygal-tooltips.min.js\"/></defs><title>K-óptimo</title><g class=\"graph line-graph vertical\"><rect x=\"0\" y=\"0\" width=\"800\" height=\"600\" class=\"background\"/><g transform=\"translate(154, 46)\" class=\"plot\"><rect x=\"0\" y=\"0\" width=\"626.0\" height=\"514\" class=\"background\"/><g class=\"axis y always_show\"><g class=\"guides\"><path d=\"M0.000000 504.115385 h626.000000\" class=\"axis major line\"/><text x=\"-5\" y=\"507.61538461538464\" class=\"major\">0</text><title>0</title></g><g class=\"guides\"><path d=\"M0.000000 454.692308 h626.000000\" class=\"guide line\"/><text x=\"-5\" y=\"458.1923076923077\" class=\"\">0.1</text><title>0.1</title></g><g class=\"guides\"><path d=\"M0.000000 405.269231 h626.000000\" class=\"guide line\"/><text x=\"-5\" y=\"408.7692307692308\" class=\"\">0.2</text><title>0.2</title></g><g class=\"guides\"><path d=\"M0.000000 355.846154 h626.000000\" class=\"guide line\"/><text x=\"-5\" y=\"359.34615384615387\" class=\"\">0.3</text><title>0.3</title></g><g class=\"guides\"><path d=\"M0.000000 306.423077 h626.000000\" class=\"guide line\"/><text x=\"-5\" y=\"309.9230769230769\" class=\"\">0.4</text><title>0.4</title></g><g class=\"guides\"><path d=\"M0.000000 257.000000 h626.000000\" class=\"major guide line\"/><text x=\"-5\" y=\"260.5\" class=\"major\">0.5</text><title>0.5</title></g><g class=\"guides\"><path d=\"M0.000000 207.576923 h626.000000\" class=\"guide line\"/><text x=\"-5\" y=\"211.0769230769231\" class=\"\">0.6</text><title>0.6</title></g><g class=\"guides\"><path d=\"M0.000000 158.153846 h626.000000\" class=\"guide line\"/><text x=\"-5\" y=\"161.6538461538462\" class=\"\">0.7</text><title>0.7</title></g><g class=\"guides\"><path d=\"M0.000000 108.730769 h626.000000\" class=\"guide line\"/><text x=\"-5\" y=\"112.23076923076923\" class=\"\">0.8</text><title>0.8</title></g><g class=\"guides\"><path d=\"M0.000000 59.307692 h626.000000\" class=\"guide line\"/><text x=\"-5\" y=\"62.80769230769232\" class=\"\">0.9</text><title>0.9</title></g><g class=\"guides\"><path d=\"M0.000000 9.884615 h626.000000\" class=\"major guide line\"/><text x=\"-5\" y=\"13.384615384615415\" class=\"major\">1</text><title>1</title></g></g><g class=\"axis x\"><g class=\"guides\"><path d=\"M12.038462 0.000000 v514.000000\" class=\"line\"/><text x=\"12.038461538461538\" y=\"529.0\" class=\"\">2</text></g><g class=\"guides\"><path d=\"M58.340237 0.000000 v514.000000\" class=\"guide line\"/><text x=\"58.34023668639053\" y=\"529.0\" class=\"\">3</text></g><g class=\"guides\"><path d=\"M104.642012 0.000000 v514.000000\" class=\"guide line\"/><text x=\"104.64201183431952\" y=\"529.0\" class=\"\">4</text></g><g class=\"guides\"><path d=\"M150.943787 0.000000 v514.000000\" class=\"guide line\"/><text x=\"150.94378698224855\" y=\"529.0\" class=\"\">5</text></g><g class=\"guides\"><path d=\"M197.245562 0.000000 v514.000000\" class=\"guide line\"/><text x=\"197.24556213017752\" y=\"529.0\" class=\"\">6</text></g><g class=\"guides\"><path d=\"M243.547337 0.000000 v514.000000\" class=\"guide line\"/><text x=\"243.5473372781065\" y=\"529.0\" class=\"\">7</text></g><g class=\"guides\"><path d=\"M289.849112 0.000000 v514.000000\" class=\"guide line\"/><text x=\"289.8491124260355\" y=\"529.0\" class=\"\">8</text></g><g class=\"guides\"><path d=\"M336.150888 0.000000 v514.000000\" class=\"guide line\"/><text x=\"336.1508875739645\" y=\"529.0\" class=\"\">9</text></g><g class=\"guides\"><path d=\"M382.452663 0.000000 v514.000000\" class=\"guide line\"/><text x=\"382.4526627218935\" y=\"529.0\" class=\"\">10</text></g><g class=\"guides\"><path d=\"M428.754438 0.000000 v514.000000\" class=\"guide line\"/><text x=\"428.7544378698225\" y=\"529.0\" class=\"\">11</text></g><g class=\"guides\"><path d=\"M475.056213 0.000000 v514.000000\" class=\"guide line\"/><text x=\"475.05621301775153\" y=\"529.0\" class=\"\">12</text></g><g class=\"guides\"><path d=\"M521.357988 0.000000 v514.000000\" class=\"guide line\"/><text x=\"521.3579881656805\" y=\"529.0\" class=\"\">13</text></g><g class=\"guides\"><path d=\"M567.659763 0.000000 v514.000000\" class=\"guide line\"/><text x=\"567.6597633136095\" y=\"529.0\" class=\"\">14</text></g><g class=\"guides\"><path d=\"M613.961538 0.000000 v514.000000\" class=\"guide line\"/><text x=\"613.9615384615385\" y=\"529.0\" class=\"\">15</text></g></g><g class=\"series serie-0 color-0\"><path d=\"M12.038462 9.884615 L58.340237 296.538462 104.642012 385.500000 150.943787 434.923077 197.245562 464.576923 243.547337 484.346154 289.849112 484.346154 336.150888 499.173077 382.452663 494.230769 428.754438 499.173077 475.056213 494.230769 521.357988 504.115385 567.659763 494.230769 613.961538 504.115385\" class=\"line reactive nofill\"/></g><g class=\"series serie-1 color-1\"><path d=\"M12.038462 301.480769 L58.340237 192.750000 104.642012 182.865385 150.943787 153.211538 197.245562 172.980769 243.547337 163.096154 289.849112 158.153846 336.150888 123.557692 382.452663 108.730769 428.754438 9.884615 475.056213 113.673077 521.357988 98.846154 567.659763 29.653846 613.961538 74.134615\" class=\"line reactive nofill\"/></g><g class=\"series serie-2 color-2\"><path d=\"M12.038462 9.884615 L58.340237 138.384615 104.642012 158.153846 150.943787 177.923077 197.245562 172.980769 243.547337 182.865385 289.849112 182.865385 336.150888 202.634615 382.452663 202.634615 428.754438 217.461538 475.056213 207.576923 521.357988 212.519231 567.659763 222.403846 613.961538 222.403846\" class=\"line reactive nofill\"/></g></g><g class=\"titles\"><text x=\"400.0\" y=\"26\" class=\"title plot_title\">K-óptimo</text></g><g transform=\"translate(154, 46)\" class=\"plot overlay\"><g class=\"series serie-0 color-0\"><g class=\"dots\"><circle cx=\"12.038461538461538\" cy=\"9.884615384615415\" r=\"2.5\" class=\"dot reactive tooltip-trigger\"/><desc class=\"value\">1</desc><desc class=\"x \">12.038461538461538</desc><desc class=\"y \">9.884615384615415</desc><desc class=\"x_label\">2</desc></g><g class=\"dots\"><circle cx=\"58.34023668639053\" cy=\"296.53846153846155\" r=\"2.5\" class=\"dot reactive tooltip-trigger\"/><desc class=\"value\">0.42</desc><desc class=\"x top\">58.34023668639053</desc><desc class=\"y top\">296.53846153846155</desc><desc class=\"x_label\">3</desc></g><g class=\"dots\"><circle cx=\"104.64201183431952\" cy=\"385.5\" r=\"2.5\" class=\"dot reactive tooltip-trigger\"/><desc class=\"value\">0.24</desc><desc class=\"x top\">104.64201183431952</desc><desc class=\"y top\">385.5</desc><desc class=\"x_label\">4</desc></g><g class=\"dots\"><circle cx=\"150.94378698224855\" cy=\"434.9230769230769\" r=\"2.5\" class=\"dot reactive tooltip-trigger\"/><desc class=\"value\">0.14</desc><desc class=\"x top\">150.94378698224855</desc><desc class=\"y top\">434.9230769230769</desc><desc class=\"x_label\">5</desc></g><g class=\"dots\"><circle cx=\"197.24556213017752\" cy=\"464.5769230769231\" r=\"2.5\" class=\"dot reactive tooltip-trigger\"/><desc class=\"value\">0.08</desc><desc class=\"x top\">197.24556213017752</desc><desc class=\"y top\">464.5769230769231</desc><desc class=\"x_label\">6</desc></g><g class=\"dots\"><circle cx=\"243.5473372781065\" cy=\"484.34615384615387\" r=\"2.5\" class=\"dot reactive tooltip-trigger\"/><desc class=\"value\">0.04</desc><desc class=\"x top\">243.5473372781065</desc><desc class=\"y top\">484.34615384615387</desc><desc class=\"x_label\">7</desc></g><g class=\"dots\"><circle cx=\"289.8491124260355\" cy=\"484.34615384615387\" r=\"2.5\" class=\"dot reactive tooltip-trigger\"/><desc class=\"value\">0.04</desc><desc class=\"x top\">289.8491124260355</desc><desc class=\"y top\">484.34615384615387</desc><desc class=\"x_label\">8</desc></g><g class=\"dots\"><circle cx=\"336.1508875739645\" cy=\"499.1730769230769\" r=\"2.5\" class=\"dot reactive tooltip-trigger\"/><desc class=\"value\">0.01</desc><desc class=\"x left top\">336.1508875739645</desc><desc class=\"y left top\">499.1730769230769</desc><desc class=\"x_label\">9</desc></g><g class=\"dots\"><circle cx=\"382.4526627218935\" cy=\"494.2307692307692\" r=\"2.5\" class=\"dot reactive tooltip-trigger\"/><desc class=\"value\">0.02</desc><desc class=\"x left top\">382.4526627218935</desc><desc class=\"y left top\">494.2307692307692</desc><desc class=\"x_label\">10</desc></g><g class=\"dots\"><circle cx=\"428.7544378698225\" cy=\"499.1730769230769\" r=\"2.5\" class=\"dot reactive tooltip-trigger\"/><desc class=\"value\">0.01</desc><desc class=\"x left top\">428.7544378698225</desc><desc class=\"y left top\">499.1730769230769</desc><desc class=\"x_label\">11</desc></g><g class=\"dots\"><circle cx=\"475.05621301775153\" cy=\"494.2307692307692\" r=\"2.5\" class=\"dot reactive tooltip-trigger\"/><desc class=\"value\">0.02</desc><desc class=\"x left top\">475.05621301775153</desc><desc class=\"y left top\">494.2307692307692</desc><desc class=\"x_label\">12</desc></g><g class=\"dots\"><circle cx=\"521.3579881656805\" cy=\"504.11538461538464\" r=\"2.5\" class=\"dot reactive tooltip-trigger\"/><desc class=\"value\">0</desc><desc class=\"x left top\">521.3579881656805</desc><desc class=\"y left top\">504.11538461538464</desc><desc class=\"x_label\">13</desc></g><g class=\"dots\"><circle cx=\"567.6597633136095\" cy=\"494.2307692307692\" r=\"2.5\" class=\"dot reactive tooltip-trigger\"/><desc class=\"value\">0.02</desc><desc class=\"x left top\">567.6597633136095</desc><desc class=\"y left top\">494.2307692307692</desc><desc class=\"x_label\">14</desc></g><g class=\"dots\"><circle cx=\"613.9615384615385\" cy=\"504.11538461538464\" r=\"2.5\" class=\"dot reactive tooltip-trigger\"/><desc class=\"value\">0</desc><desc class=\"x left top\">613.9615384615385</desc><desc class=\"y left top\">504.11538461538464</desc><desc class=\"x_label\">15</desc></g></g><g class=\"series serie-1 color-1\"><g class=\"dots\"><circle cx=\"12.038461538461538\" cy=\"301.4807692307692\" r=\"2.5\" class=\"dot reactive tooltip-trigger\"/><desc class=\"value\">0.41</desc><desc class=\"x top\">12.038461538461538</desc><desc class=\"y top\">301.4807692307692</desc><desc class=\"x_label\">2</desc></g><g class=\"dots\"><circle cx=\"58.34023668639053\" cy=\"192.75\" r=\"2.5\" class=\"dot reactive tooltip-trigger\"/><desc class=\"value\">0.63</desc><desc class=\"x \">58.34023668639053</desc><desc class=\"y \">192.75</desc><desc class=\"x_label\">3</desc></g><g class=\"dots\"><circle cx=\"104.64201183431952\" cy=\"182.86538461538464\" r=\"2.5\" class=\"dot reactive tooltip-trigger\"/><desc class=\"value\">0.65</desc><desc class=\"x \">104.64201183431952</desc><desc class=\"y \">182.86538461538464</desc><desc class=\"x_label\">4</desc></g><g class=\"dots\"><circle cx=\"150.94378698224855\" cy=\"153.2115384615385\" r=\"2.5\" class=\"dot reactive tooltip-trigger\"/><desc class=\"value\">0.71</desc><desc class=\"x \">150.94378698224855</desc><desc class=\"y \">153.2115384615385</desc><desc class=\"x_label\">5</desc></g><g class=\"dots\"><circle cx=\"197.24556213017752\" cy=\"172.98076923076923\" r=\"2.5\" class=\"dot reactive tooltip-trigger\"/><desc class=\"value\">0.67</desc><desc class=\"x \">197.24556213017752</desc><desc class=\"y \">172.98076923076923</desc><desc class=\"x_label\">6</desc></g><g class=\"dots\"><circle cx=\"243.5473372781065\" cy=\"163.09615384615387\" r=\"2.5\" class=\"dot reactive tooltip-trigger\"/><desc class=\"value\">0.69</desc><desc class=\"x \">243.5473372781065</desc><desc class=\"y \">163.09615384615387</desc><desc class=\"x_label\">7</desc></g><g class=\"dots\"><circle cx=\"289.8491124260355\" cy=\"158.1538461538462\" r=\"2.5\" class=\"dot reactive tooltip-trigger\"/><desc class=\"value\">0.7</desc><desc class=\"x \">289.8491124260355</desc><desc class=\"y \">158.1538461538462</desc><desc class=\"x_label\">8</desc></g><g class=\"dots\"><circle cx=\"336.1508875739645\" cy=\"123.55769230769232\" r=\"2.5\" class=\"dot reactive tooltip-trigger\"/><desc class=\"value\">0.77</desc><desc class=\"x left\">336.1508875739645</desc><desc class=\"y left\">123.55769230769232</desc><desc class=\"x_label\">9</desc></g><g class=\"dots\"><circle cx=\"382.4526627218935\" cy=\"108.73076923076923\" r=\"2.5\" class=\"dot reactive tooltip-trigger\"/><desc class=\"value\">0.8</desc><desc class=\"x left\">382.4526627218935</desc><desc class=\"y left\">108.73076923076923</desc><desc class=\"x_label\">10</desc></g><g class=\"dots\"><circle cx=\"428.7544378698225\" cy=\"9.884615384615415\" r=\"2.5\" class=\"dot reactive tooltip-trigger\"/><desc class=\"value\">1</desc><desc class=\"x left\">428.7544378698225</desc><desc class=\"y left\">9.884615384615415</desc><desc class=\"x_label\">11</desc></g><g class=\"dots\"><circle cx=\"475.05621301775153\" cy=\"113.6730769230769\" r=\"2.5\" class=\"dot reactive tooltip-trigger\"/><desc class=\"value\">0.79</desc><desc class=\"x left\">475.05621301775153</desc><desc class=\"y left\">113.6730769230769</desc><desc class=\"x_label\">12</desc></g><g class=\"dots\"><circle cx=\"521.3579881656805\" cy=\"98.84615384615387\" r=\"2.5\" class=\"dot reactive tooltip-trigger\"/><desc class=\"value\">0.82</desc><desc class=\"x left\">521.3579881656805</desc><desc class=\"y left\">98.84615384615387</desc><desc class=\"x_label\">13</desc></g><g class=\"dots\"><circle cx=\"567.6597633136095\" cy=\"29.65384615384619\" r=\"2.5\" class=\"dot reactive tooltip-trigger\"/><desc class=\"value\">0.96</desc><desc class=\"x left\">567.6597633136095</desc><desc class=\"y left\">29.65384615384619</desc><desc class=\"x_label\">14</desc></g><g class=\"dots\"><circle cx=\"613.9615384615385\" cy=\"74.13461538461542\" r=\"2.5\" class=\"dot reactive tooltip-trigger\"/><desc class=\"value\">0.87</desc><desc class=\"x left\">613.9615384615385</desc><desc class=\"y left\">74.13461538461542</desc><desc class=\"x_label\">15</desc></g></g><g class=\"series serie-2 color-2\"><g class=\"dots\"><circle cx=\"12.038461538461538\" cy=\"9.884615384615415\" r=\"2.5\" class=\"dot reactive tooltip-trigger\"/><desc class=\"value\">1</desc><desc class=\"x \">12.038461538461538</desc><desc class=\"y \">9.884615384615415</desc><desc class=\"x_label\">2</desc></g><g class=\"dots\"><circle cx=\"58.34023668639053\" cy=\"138.38461538461542\" r=\"2.5\" class=\"dot reactive tooltip-trigger\"/><desc class=\"value\">0.74</desc><desc class=\"x \">58.34023668639053</desc><desc class=\"y \">138.38461538461542</desc><desc class=\"x_label\">3</desc></g><g class=\"dots\"><circle cx=\"104.64201183431952\" cy=\"158.1538461538462\" r=\"2.5\" class=\"dot reactive tooltip-trigger\"/><desc class=\"value\">0.7</desc><desc class=\"x \">104.64201183431952</desc><desc class=\"y \">158.1538461538462</desc><desc class=\"x_label\">4</desc></g><g class=\"dots\"><circle cx=\"150.94378698224855\" cy=\"177.9230769230769\" r=\"2.5\" class=\"dot reactive tooltip-trigger\"/><desc class=\"value\">0.66</desc><desc class=\"x \">150.94378698224855</desc><desc class=\"y \">177.9230769230769</desc><desc class=\"x_label\">5</desc></g><g class=\"dots\"><circle cx=\"197.24556213017752\" cy=\"172.98076923076923\" r=\"2.5\" class=\"dot reactive tooltip-trigger\"/><desc class=\"value\">0.67</desc><desc class=\"x \">197.24556213017752</desc><desc class=\"y \">172.98076923076923</desc><desc class=\"x_label\">6</desc></g><g class=\"dots\"><circle cx=\"243.5473372781065\" cy=\"182.86538461538464\" r=\"2.5\" class=\"dot reactive tooltip-trigger\"/><desc class=\"value\">0.65</desc><desc class=\"x \">243.5473372781065</desc><desc class=\"y \">182.86538461538464</desc><desc class=\"x_label\">7</desc></g><g class=\"dots\"><circle cx=\"289.8491124260355\" cy=\"182.86538461538464\" r=\"2.5\" class=\"dot reactive tooltip-trigger\"/><desc class=\"value\">0.65</desc><desc class=\"x \">289.8491124260355</desc><desc class=\"y \">182.86538461538464</desc><desc class=\"x_label\">8</desc></g><g class=\"dots\"><circle cx=\"336.1508875739645\" cy=\"202.63461538461542\" r=\"2.5\" class=\"dot reactive tooltip-trigger\"/><desc class=\"value\">0.61</desc><desc class=\"x left\">336.1508875739645</desc><desc class=\"y left\">202.63461538461542</desc><desc class=\"x_label\">9</desc></g><g class=\"dots\"><circle cx=\"382.4526627218935\" cy=\"202.63461538461542\" r=\"2.5\" class=\"dot reactive tooltip-trigger\"/><desc class=\"value\">0.61</desc><desc class=\"x left\">382.4526627218935</desc><desc class=\"y left\">202.63461538461542</desc><desc class=\"x_label\">10</desc></g><g class=\"dots\"><circle cx=\"428.7544378698225\" cy=\"217.4615384615385\" r=\"2.5\" class=\"dot reactive tooltip-trigger\"/><desc class=\"value\">0.58</desc><desc class=\"x left\">428.7544378698225</desc><desc class=\"y left\">217.4615384615385</desc><desc class=\"x_label\">11</desc></g><g class=\"dots\"><circle cx=\"475.05621301775153\" cy=\"207.5769230769231\" r=\"2.5\" class=\"dot reactive tooltip-trigger\"/><desc class=\"value\">0.6</desc><desc class=\"x left\">475.05621301775153</desc><desc class=\"y left\">207.5769230769231</desc><desc class=\"x_label\">12</desc></g><g class=\"dots\"><circle cx=\"521.3579881656805\" cy=\"212.51923076923077\" r=\"2.5\" class=\"dot reactive tooltip-trigger\"/><desc class=\"value\">0.59</desc><desc class=\"x left\">521.3579881656805</desc><desc class=\"y left\">212.51923076923077</desc><desc class=\"x_label\">13</desc></g><g class=\"dots\"><circle cx=\"567.6597633136095\" cy=\"222.4038461538462\" r=\"2.5\" class=\"dot reactive tooltip-trigger\"/><desc class=\"value\">0.57</desc><desc class=\"x left\">567.6597633136095</desc><desc class=\"y left\">222.4038461538462</desc><desc class=\"x_label\">14</desc></g><g class=\"dots\"><circle cx=\"613.9615384615385\" cy=\"222.4038461538462\" r=\"2.5\" class=\"dot reactive tooltip-trigger\"/><desc class=\"value\">0.57</desc><desc class=\"x left\">613.9615384615385</desc><desc class=\"y left\">222.4038461538462</desc><desc class=\"x_label\">15</desc></g></g></g><g transform=\"translate(154, 46)\" class=\"plot text-overlay\"><g class=\"series serie-0 color-0\"/><g class=\"series serie-1 color-1\"/><g class=\"series serie-2 color-2\"/></g><g transform=\"translate(154, 46)\" class=\"plot tooltip-overlay\"><g transform=\"translate(0 0)\" style=\"opacity: 0\" class=\"tooltip\"><rect rx=\"0\" ry=\"0\" width=\"0\" height=\"0\" class=\"tooltip-box\"/><g class=\"text\"/></g></g><g transform=\"translate(10, 56)\" class=\"legends\"><g id=\"activate-serie-0\" class=\"legend reactive activate-serie\"><rect x=\"0.0\" y=\"1.0\" width=\"12\" height=\"12\" class=\"color-0 reactive\"/><text x=\"17.0\" y=\"11.2\">Inertia</text></g><g id=\"activate-serie-1\" class=\"legend reactive activate-serie\"><rect x=\"0.0\" y=\"22.0\" width=\"12\" height=\"12\" class=\"color-1 reactive\"/><text x=\"17.0\" y=\"32.2\">DB</text></g><g id=\"activate-serie-2\" class=\"legend reactive activate-serie\"><rect x=\"0.0\" y=\"43.0\" width=\"12\" height=\"12\" class=\"color-2 reactive\"/><text x=\"17.0\" y=\"53.2\">Silhouette</text></g></g><g transform=\"translate(790, 56)\" class=\"legends\"/></g></svg>"
      ],
      "text/plain": [
       "<pygal.graph.line.Line at 0x7fef0f2747c0>"
      ]
     },
     "metadata": {},
     "output_type": "display_data"
    }
   ],
   "source": [
    "koptimo(df)"
   ]
  },
  {
   "cell_type": "markdown",
   "id": "becbf4de",
   "metadata": {},
   "source": [
    "### Model"
   ]
  },
  {
   "cell_type": "code",
   "execution_count": 16,
   "id": "b4705b9d",
   "metadata": {
    "ExecuteTime": {
     "end_time": "2021-05-16T16:30:16.752231Z",
     "start_time": "2021-05-16T16:30:16.077403Z"
    }
   },
   "outputs": [
    {
     "name": "stdout",
     "output_type": "stream",
     "text": [
      "Distribución de registros en los 4 clústeres\n"
     ]
    },
    {
     "data": {
      "text/html": [
       "<div>\n",
       "<style scoped>\n",
       "    .dataframe tbody tr th:only-of-type {\n",
       "        vertical-align: middle;\n",
       "    }\n",
       "\n",
       "    .dataframe tbody tr th {\n",
       "        vertical-align: top;\n",
       "    }\n",
       "\n",
       "    .dataframe thead th {\n",
       "        text-align: right;\n",
       "    }\n",
       "</style>\n",
       "<table border=\"1\" class=\"dataframe\">\n",
       "  <thead>\n",
       "    <tr style=\"text-align: right;\">\n",
       "      <th></th>\n",
       "      <th>index</th>\n",
       "      <th>cluster</th>\n",
       "    </tr>\n",
       "  </thead>\n",
       "  <tbody>\n",
       "    <tr>\n",
       "      <th>3</th>\n",
       "      <td>A</td>\n",
       "      <td>0.003584</td>\n",
       "    </tr>\n",
       "    <tr>\n",
       "      <th>2</th>\n",
       "      <td>B</td>\n",
       "      <td>0.204301</td>\n",
       "    </tr>\n",
       "    <tr>\n",
       "      <th>0</th>\n",
       "      <td>C</td>\n",
       "      <td>0.516129</td>\n",
       "    </tr>\n",
       "    <tr>\n",
       "      <th>1</th>\n",
       "      <td>D</td>\n",
       "      <td>0.275986</td>\n",
       "    </tr>\n",
       "  </tbody>\n",
       "</table>\n",
       "</div>"
      ],
      "text/plain": [
       "  index   cluster\n",
       "3     A  0.003584\n",
       "2     B  0.204301\n",
       "0     C  0.516129\n",
       "1     D  0.275986"
      ]
     },
     "metadata": {},
     "output_type": "display_data"
    },
    {
     "name": "stdout",
     "output_type": "stream",
     "text": [
      "Varianza explicada con 2dim: 8.2%\n"
     ]
    },
    {
     "data": {
      "image/png": "[encoded data removed]",
      "text/plain": [
       "<Figure size 720x432 with 1 Axes>"
      ]
     },
     "metadata": {
      "needs_background": "light"
     },
     "output_type": "display_data"
    }
   ],
   "source": [
    "df = clustering(df,df.columns,n_clusters=4,kmeans=True)"
   ]
  },
  {
   "cell_type": "markdown",
   "id": "04bd764c",
   "metadata": {},
   "source": [
    "### Difference between clusters"
   ]
  },
  {
   "cell_type": "code",
   "execution_count": 17,
   "id": "de0d45df",
   "metadata": {
    "ExecuteTime": {
     "end_time": "2021-05-16T16:30:16.945800Z",
     "start_time": "2021-05-16T16:30:16.754050Z"
    }
   },
   "outputs": [
    {
     "data": {
      "text/plain": [
       "<Figure size 432x288 with 0 Axes>"
      ]
     },
     "metadata": {},
     "output_type": "display_data"
    },
    {
     "data": {
      "image/png": "[encoded data removed]",
      "text/plain": [
       "<Figure size 144x144 with 2 Axes>"
      ]
     },
     "metadata": {},
     "output_type": "display_data"
    }
   ],
   "source": [
    "aux = df.iloc[:,:6].join(df['cluster'])\n",
    "perfilamiento(aux)"
   ]
  },
  {
   "cell_type": "code",
   "execution_count": 18,
   "id": "c9a4be40",
   "metadata": {
    "ExecuteTime": {
     "end_time": "2021-05-16T16:30:17.479133Z",
     "start_time": "2021-05-16T16:30:16.952678Z"
    }
   },
   "outputs": [
    {
     "name": "stdout",
     "output_type": "stream",
     "text": [
      "A\n"
     ]
    },
    {
     "data": {
      "image/png": "[encoded data removed]",
      "text/plain": [
       "<Figure size 432x288 with 1 Axes>"
      ]
     },
     "metadata": {
      "needs_background": "light"
     },
     "output_type": "display_data"
    },
    {
     "name": "stdout",
     "output_type": "stream",
     "text": [
      "C\n"
     ]
    },
    {
     "data": {
      "image/png": "[encoded data removed]",
      "text/plain": [
       "<Figure size 432x288 with 1 Axes>"
      ]
     },
     "metadata": {
      "needs_background": "light"
     },
     "output_type": "display_data"
    },
    {
     "name": "stdout",
     "output_type": "stream",
     "text": [
      "D\n"
     ]
    },
    {
     "data": {
      "image/png": "[encoded data removed]",
      "text/plain": [
       "<Figure size 432x288 with 1 Axes>"
      ]
     },
     "metadata": {
      "needs_background": "light"
     },
     "output_type": "display_data"
    },
    {
     "name": "stdout",
     "output_type": "stream",
     "text": [
      "B\n"
     ]
    },
    {
     "data": {
      "image/png": "[encoded data removed]",
      "text/plain": [
       "<Figure size 432x288 with 1 Axes>"
      ]
     },
     "metadata": {
      "needs_background": "light"
     },
     "output_type": "display_data"
    }
   ],
   "source": [
    "for cluster in set(df['cluster']):\n",
    "    print(cluster)\n",
    "    plt.show(df[(df['cluster']==cluster)&(df['compound']!=0)]['compound'].hist())"
   ]
  },
  {
   "cell_type": "code",
   "execution_count": 19,
   "id": "95d89895",
   "metadata": {
    "ExecuteTime": {
     "end_time": "2021-05-16T16:30:17.501405Z",
     "start_time": "2021-05-16T16:30:17.483310Z"
    }
   },
   "outputs": [
    {
     "name": "stdout",
     "output_type": "stream",
     "text": [
      "A 4\n",
      "MultiIndex([(            'the galactic council', ...),\n",
      "            ('integral part of the galactic ac', ...),\n",
      "            (                    'the galactic', ...),\n",
      "            (                'galactic council', ...)],\n",
      "           names=['clean', 'min_text'])\n",
      "C 576\n",
      "MultiIndex([('the last question by isaac asimov this is by far my favorite story of all those i have written', ...),\n",
      "            (                                        'story and i leave it to you as to how well i succeeded', ...),\n",
      "            (                             'but i won t tell you what that was lest l spoil the story for you', ...),\n",
      "            (             'it is a curious fact that innumerable readers have asked me if i wrote this story', ...),\n",
      "            (                                             'they seem never to remember the title of the stor', ...)],\n",
      "           names=['clean', 'min_text'])\n",
      "D 308\n",
      "MultiIndex([(          'i undertook to tell several trillion', ...),\n",
      "            ('years of human history in the space of a short', ...),\n",
      "            (                 'i also undertook another task', ...),\n",
      "            ('the last question was asked for the first time', ...),\n",
      "            (                                        'on may', ...)],\n",
      "           names=['clean', 'min_text'])\n",
      "B 228\n",
      "MultiIndex([(         '', ' a'),\n",
      "            ('after all', ' a'),\n",
      "            (      'but', ' a'),\n",
      "            (         '', ' a'),\n",
      "            (       'as', ' a')],\n",
      "           names=['clean', 'min_text'])\n"
     ]
    }
   ],
   "source": [
    "for cluster in set(df['cluster']):\n",
    "    print(cluster,len(df[df['cluster']==cluster]))\n",
    "    print(df[df['cluster']==cluster].index[:5])"
   ]
  },
  {
   "cell_type": "markdown",
   "id": "6a320071",
   "metadata": {},
   "source": [
    "## End"
   ]
  },
  {
   "cell_type": "code",
   "execution_count": 20,
   "id": "1a865c44",
   "metadata": {
    "ExecuteTime": {
     "end_time": "2021-05-16T16:30:17.564867Z",
     "start_time": "2021-05-16T16:30:17.503040Z"
    }
   },
   "outputs": [
    {
     "name": "stdout",
     "output_type": "stream",
     "text": [
      "0 minutos con 51.53 segundos\n"
     ]
    },
    {
     "data": {
      "text/html": [
       "\n",
       "                <audio  controls=\"controls\" autoplay=\"autoplay\">\n",
       "                    <source src=\"data:audio/wav;base64,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\" type=\"audio/wav\" />\n",
       "                    Your browser does not support the audio element.\n",
       "                </audio>\n",
       "              "
      ],
      "text/plain": [
       "<IPython.lib.display.Audio object>"
      ]
     },
     "execution_count": 20,
     "metadata": {},
     "output_type": "execute_result"
    }
   ],
   "source": [
    "time_exp(time.time()-start)\n",
    "tone()"
   ]
  }
 ],
 "metadata": {
  "kernelspec": {
   "display_name": "Python 3",
   "language": "python",
   "name": "python3"
  },
  "language_info": {
   "codemirror_mode": {
    "name": "ipython",
    "version": 3
   },
   "file_extension": ".py",
   "mimetype": "text/x-python",
   "name": "python",
   "nbconvert_exporter": "python",
   "pygments_lexer": "ipython3",
   "version": "3.9.1"
  },
  "toc": {
   "base_numbering": 1,
   "nav_menu": {},
   "number_sections": true,
   "sideBar": true,
   "skip_h1_title": true,
   "title_cell": "Table of Contents",
   "title_sidebar": "Contents",
   "toc_cell": false,
   "toc_position": {},
   "toc_section_display": true,
   "toc_window_display": false
  },
  "varInspector": {
   "cols": {
    "lenName": 16,
    "lenType": 16,
    "lenVar": 40
   },
   "kernels_config": {
    "python": {
     "delete_cmd_postfix": "",
     "delete_cmd_prefix": "del ",
     "library": "var_list.py",
     "varRefreshCmd": "print(var_dic_list())"
    },
    "r": {
     "delete_cmd_postfix": ") ",
     "delete_cmd_prefix": "rm(",
     "library": "var_list.r",
     "varRefreshCmd": "cat(var_dic_list()) "
    }
   },
   "types_to_exclude": [
    "module",
    "function",
    "builtin_function_or_method",
    "instance",
    "_Feature"
   ],
   "window_display": false
  }
 },
 "nbformat": 4,
 "nbformat_minor": 5
}
